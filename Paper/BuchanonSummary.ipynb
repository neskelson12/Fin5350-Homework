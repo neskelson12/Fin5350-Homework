{
 "cells": [
  {
   "cell_type": "markdown",
   "metadata": {},
   "source": [
    "## Nathan Eskelson"
   ]
  },
  {
   "cell_type": "markdown",
   "metadata": {},
   "source": [
    " ### Outline what Buchanan's main point is."
   ]
  },
  {
   "cell_type": "markdown",
   "metadata": {},
   "source": [
    "Buchanon believes that the study of economics is disintegrating and he offers a new way to view economics in order to save it. Towards the beginning he mentions how he wants to put the \"theory of markets\" at center stage over the \"theory of resource allocation.\" Buchanon gives the example of a student describing the difference between an economic problem and a technological problem. The difference between the two examples that said student gives are essentially the same thing. One was how to spend ten dollars and the other was how to construct a dam with specifics. Essentially, his main point is saying that economics is falling away fast and he is trying to give an idea of how to enforce economics. "
   ]
  },
  {
   "cell_type": "markdown",
   "metadata": {},
   "source": [
    "### What does Buchanan mean by the word ___catallatics___?"
   ]
  },
  {
   "cell_type": "markdown",
   "metadata": {},
   "source": [
    "He uses another word, symbiotics, to help explain what he means by catallatics. He mentions that it is the study of the association between dissimilar organisms and how that association is benficial to all parties. It is kind of how these groups cooperate one with another even when the interests may not be the same. This is what Buchanon is trying to get people to replace the words \"economy\" and \"political economy\" with. He believes this part of the confusion as to what economics really is. The one important truth is that mutuality of advantage that may be secured by different organisms as a result of cooperative arrangements whether they are simple or complex."
   ]
  },
  {
   "cell_type": "markdown",
   "metadata": {},
   "source": [
    "### According to Buchanan what do most economists do?"
   ]
  },
  {
   "cell_type": "markdown",
   "metadata": {},
   "source": [
    "Buchanon believes that economists are overlooking the significance of the propensity to barter, truck and exchange. He believes that economists now are more focused on the allocation of scarce means among alternative or competeting ends. On the third page, he calls out Robbins. He believes that his idea of being open-ended is not correct. He believes that economists are now focusing on the problem or set of problems and not on human activity. Buchanon goes on to mention that economists are following his lead and not identifying the right entity for which the problem exists. Basically, he says that people see it as a problem and their being one solution to apply maximization to a relatively simple computational sort. At the end of this paragraph he mentions leaving applied mathematics to mathematicians and not pretending that it is economics. "
   ]
  },
  {
   "cell_type": "markdown",
   "metadata": {},
   "source": [
    "### What does he think they should do differently?"
   ]
  },
  {
   "cell_type": "markdown",
   "metadata": {},
   "source": [
    "\"Economics is the study of how a particular society solves its economic problem.\" Buchanon believes that the entity or society needs to be identified within the economic problem. It can't just be somehthing that is rather general. He mentions that the theory of choice or the theory of resource allocation needs to be eliminated from economists minds. This doesn't distinguish them from any other scientiet that studies human behavior. He wants economists to focus on exchange rather than choice. The market becomes competitive by the continual pressure placed upon it by human behavior in exchange. Lastly, he wants to focus on the methodology of economics. It may not give you the answer to all of your problems but it will show you how you got the problem."
   ]
  }
 ],
 "metadata": {
  "kernelspec": {
   "display_name": "Python 3",
   "language": "python",
   "name": "python3"
  },
  "language_info": {
   "codemirror_mode": {
    "name": "ipython",
    "version": 3
   },
   "file_extension": ".py",
   "mimetype": "text/x-python",
   "name": "python",
   "nbconvert_exporter": "python",
   "pygments_lexer": "ipython3",
   "version": "3.6.5"
  }
 },
 "nbformat": 4,
 "nbformat_minor": 2
}
