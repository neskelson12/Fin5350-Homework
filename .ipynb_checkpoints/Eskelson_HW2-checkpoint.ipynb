{
 "cells": [
  {
   "cell_type": "markdown",
   "metadata": {},
   "source": [
    "### Nathan Eskelson"
   ]
  },
  {
   "cell_type": "code",
   "execution_count": 85,
   "metadata": {},
   "outputs": [
    {
     "data": {
      "text/plain": [
       "{'price': array([[100., 130., 169.],\n",
       "        [  0.,  80., 104.],\n",
       "        [  0.,   0.,  64.]]), 'payoff': array([[ 5., 35., 74.],\n",
       "        [ 0.,  0.,  9.],\n",
       "        [ 0.,  0.,  0.]]), 'premium': array([[15.10887429, 36.88112604, 75.88112604],\n",
       "        [ 0.        ,  3.8851391 , 17.35362133],\n",
       "        [ 0.        ,  0.        ,  0.        ]]), 'delta': array([[0.7       , 1.        , 1.        ],\n",
       "        [0.        , 0.225     , 0.77307692],\n",
       "        [0.        , 0.        , 0.        ]]), 'beta': array([[-54.89112571, -93.11887396, -93.11887396],\n",
       "        [  0.        , -14.1148609 , -63.04637867],\n",
       "        [  0.        ,   0.        ,   0.        ]])}"
      ]
     },
     "execution_count": 85,
     "metadata": {},
     "output_type": "execute_result"
    }
   ],
   "source": [
    "import numpy as np\n",
    "from scipy.stats import binom\n",
    "\n",
    "## Call Payoff Function\n",
    "def callPayoff(spot, strike):\n",
    "    return np.maximum(spot - strike, 0.0)\n",
    "\n",
    "## Put Payoff Function\n",
    "def putPayoff(spot, strike):\n",
    "    return np.maximum(strike - spot, 0.0)\n",
    "\n",
    "def EuropeanCallDelta(S, X, u, d):\n",
    "    deltaC = (max((u * S) - X, 0) - max((d * S) - X, 0))/(S * (u - d))\n",
    "    return deltaC\n",
    "\n",
    "def EuropeanCallBeta(S, X, u, d, r, T, n):\n",
    "    betaC = np.exp(-r * (T/n)) * (((u * (max((d * S) - X, 0))) - d * (max((u * S) - X, 0))) / (u - d))\n",
    "    return betaC\n",
    "\n",
    "def EuropeanCall(S, X, r, u, d, T, n):\n",
    "    deltaC = EuropeanCallDelta(S, X, u, d) \n",
    "    betaC = EuropeanCallBeta(S, X, u, d, r, T, n)\n",
    "    callPrice = S * deltaC + betaC\n",
    "    return callPrice\n",
    "\n",
    "def EuropeanPutDelta(S, X, u, d):\n",
    "    deltaP = (max(X - (u * S), 0) - max(X - (d * S), 0))/(S * (u - d))\n",
    "    return deltaP\n",
    "\n",
    "def EuropeanPutBeta(S, X, u, d, r, T, n):\n",
    "    betaP = np.exp(-r * (T/n)) * (((u * (max(X - (d * S), 0))) - d * (max(X - (u * S), 0))) / (u - d))\n",
    "    return betaP\n",
    "\n",
    "def EuropeanPut(S, X, r, u, d, T, n):\n",
    "    deltaP = EuropeanPutDelta(S, X, u, d) \n",
    "    betaP = EuropeanPutBeta(S, X, u, d, r, T, n)\n",
    "    putPrice = S * deltaP + betaP\n",
    "    return putPrice\n",
    "\n",
    "def buildTrees(S,X,r,T,v,u,d,n,opt_type):\n",
    "    spotArr = np.zeros([n + 1, n + 1])\n",
    "    payoffArr = np.zeros([n + 1, n + 1])\n",
    "    premArr = np.zeros([n + 1, n + 1])\n",
    "    deltaArr = np.zeros([n + 1, n + 1])\n",
    "    betaArr = np.zeros([n + 1, n + 1])\n",
    "    # build price tree\n",
    "    for x in range(n + 1):\n",
    "        for y in range(n + 1):\n",
    "            if (y - x) >= 0:\n",
    "                spotArr[x,y] = S * (u ** (y - x)) * (d ** (x))\n",
    "    # build payoff tree with prem, delta, and beta\n",
    "    for x in range(n + 1):\n",
    "        for y in range(n + 1):\n",
    "            if (y - x) >= 0:\n",
    "                payoffArr[x,y] = max(spotArr[x,y] - X, 0)\n",
    "                if opt_type == 'call':\n",
    "                    premArr[x,y] = EuropeanCall(spotArr[x,y], X, r, u, d, T, n)\n",
    "                    deltaArr[x,y] = EuropeanCallDelta(spotArr[x,y], X, u, d)\n",
    "                    betaArr[x,y] = EuropeanCallBeta(spotArr[x,y], X, u, d, r, T, n)\n",
    "                else:\n",
    "                    premArr[x,y] = EuropeanPut(spotArr[x,y], X, r, u, d, T, n)\n",
    "                    deltaArr[x,y] = EuropeanPutDelta(spotArr[x,y], X, u, d)\n",
    "                    betaArr[x,y] = EuropeanPutBeta(spotArr[x,y], X, u, d, r, T, n)\n",
    "    \n",
    "    optionValues = {'price':spotArr, 'payoff':payoffArr, 'premium':premArr,'delta':deltaArr, 'beta':betaArr}\n",
    "    return optionValues\n",
    "\n",
    "def americanBinomPricerRecursive(S, K, r, v, q, T, n, payoff, verbose = True):\n",
    "    nodes = n  + 1\n",
    "    h = T / n\n",
    "    u = np.exp((r - q) * h + v * np.sqrt(h))\n",
    "    d = np.exp((r - q) * h - v * np.sqrt(h))\n",
    "    pu = (np.exp((r - q) * h) - d) / (u - d)\n",
    "    pd = 1 - pu\n",
    "    disc = np.exp(-r * h)\n",
    "    \n",
    "    ## Arrays to store the spot prices and option values\n",
    "    Ct = np.empty(nodes)\n",
    "    St = np.empty(nodes)\n",
    "    \n",
    "    for i in range(nodes):\n",
    "        St[i] = S * (u ** (n - i)) * (d ** i)\n",
    "        Ct[i] = payoff(St[i], K)\n",
    "        \n",
    "    if verbose:\n",
    "        print(Ct)\n",
    "        \n",
    "    for t in range((n-1), -1, -1):\n",
    "        for j in range(t + 1):\n",
    "            Ct[j] = disc * (pu * Ct[j] + pd * Ct[j+1])\n",
    "            St[j] = St[j] / u\n",
    "            np.maximum(Ct[j], payoff(St[j], K))\n",
    "            print(Ct)\n",
    "            \n",
    "    return Ct[0]\n",
    "\n",
    "def CallPayOff(Spot, Strike):\n",
    "    return np.maximum(Spot - Strike, 0.0)\n",
    "\n",
    "def EuropeanBinomial(S, X, r, u, d, T, n):\n",
    "    numSteps = n\n",
    "    numNodes = numSteps + 1\n",
    "    spotT = 0.0\n",
    "    callT = 0.0\n",
    "    pu = (np.exp(r*T) - d) / (u - d)\n",
    "    pd = 1 - pu\n",
    "    \n",
    "    for i in range(numNodes):\n",
    "        spotT = S * (u ** (numSteps - i)) * (d ** (i))\n",
    "        callT += CallPayOff(spotT, X) * binom.pmf(numSteps - i, numSteps, pu)  \n",
    "    callPrice = callT * np.exp(-r * T)\n",
    "     \n",
    "    return callPrice\n",
    "    \n",
    "buildTrees(100, 95, .08, .5, 0, 1.3, .8, 2, 'call')"
   ]
  },
  {
   "cell_type": "markdown",
   "metadata": {},
   "source": [
    "## 1)"
   ]
  },
  {
   "cell_type": "code",
   "execution_count": 10,
   "metadata": {},
   "outputs": [
    {
     "name": "stdout",
     "output_type": "stream",
     "text": [
      "Call Premium = 11.5684\n",
      "Call Delta = 0.5000\n",
      "Call Beta = -1.2938\n",
      "Put Premium = 12.4513\n",
      "Put Delta = -0.5000\n",
      "Put Beta = 0.0000\n"
     ]
    }
   ],
   "source": [
    "def main_1():\n",
    "    S = 100\n",
    "    X = 105\n",
    "    r = 0.08\n",
    "    T = 0.5\n",
    "    v = 0.0\n",
    "    u = 1.3\n",
    "    d = 0.8\n",
    "    n = 1\n",
    "    \n",
    "    callPrice = EuropeanCall(S, X, r, u, d, T, n)\n",
    "    print(\"Call Premium = {0:.4f}\".format(callPrice))\n",
    "    callDelta = EuropeanCallDelta(S, X, u, d)\n",
    "    print(\"Call Delta = {0:.4f}\".format(callDelta))\n",
    "    callBeta = EuropeanCallBeta(S, u, d, r, T, n, X)\n",
    "    print(\"Call Beta = {0:.4f}\".format(callBeta))\n",
    "    putPrice = EuropeanPut(S, X, r, u, d, T, n)\n",
    "    print(\"Put Premium = {0:.4f}\".format(putPrice))\n",
    "    putDelta = EuropeanPutDelta(S, X, u, d)\n",
    "    print(\"Put Delta = {0:.4f}\".format(putDelta))\n",
    "    putBeta = EuropeanPutBeta(S, u, d, r, T, n, X)\n",
    "    print(\"Put Beta = {0:.4f}\".format(putBeta))\n",
    "    \n",
    "main_1()"
   ]
  },
  {
   "cell_type": "markdown",
   "metadata": {},
   "source": [
    "## 2)"
   ]
  },
  {
   "cell_type": "code",
   "execution_count": 11,
   "metadata": {},
   "outputs": [
    {
     "name": "stdout",
     "output_type": "stream",
     "text": [
      "a. Put Price = 7.4708\n",
      "b. Call Price = 16.1958\n",
      "\n",
      " Buy 17 shares of the stock and borrow 53.8042 to create a synthetic call. After we will sell the call option and make 17 - 16.1958 which is .8042\n",
      "\n",
      "c. We want to buy the call option as they have it undervalued. After sell 17 units of a share and lend 53.8042. We then profit 16.1958 - 15 which is 1.1958\n"
     ]
    }
   ],
   "source": [
    "def main_2():\n",
    "    S = 100\n",
    "    X = 95\n",
    "    r = 0.08\n",
    "    T = 0.5\n",
    "    v = 0.0\n",
    "    u = 1.3\n",
    "    d = 0.8\n",
    "    n = 1\n",
    "    \n",
    "    putPrice = EuropeanPut(S, X, r, u, d, T, n)\n",
    "    print(\"a. Put Price = {0:.4f}\".format(putPrice))\n",
    "    callPrice = EuropeanCall(S, X, r, u, d, T, n)\n",
    "    print(\"b. Call Price = {0:.4f}\".format(callPrice)) \n",
    "    print(\"\\n Buy 17 shares of the stock and borrow 53.8042 to create a synthetic call. After we will sell the call option and make 17 - 16.1958 which is .8042\\n\")\n",
    "    print(\"c. We want to buy the call option as they have it undervalued. After sell 17 units of a share and lend 53.8042. We then profit 16.1958 - 15 which is 1.1958\")\n",
    "    \n",
    "main_2()"
   ]
  },
  {
   "cell_type": "markdown",
   "metadata": {},
   "source": [
    "## 3)"
   ]
  },
  {
   "cell_type": "code",
   "execution_count": 30,
   "metadata": {},
   "outputs": [
    {
     "name": "stdout",
     "output_type": "stream",
     "text": [
      "price \n",
      " [[100. 130. 169.]\n",
      " [  0.  80. 104.]\n",
      " [  0.   0.  64.]] \n",
      "\n",
      "payoff \n",
      " [[ 5. 35. 74.]\n",
      " [ 0.  0.  9.]\n",
      " [ 0.  0.  0.]] \n",
      "\n",
      "premium \n",
      " [[15.10887429 36.88112604 75.88112604]\n",
      " [ 0.          3.8851391  17.35362133]\n",
      " [ 0.          0.          0.        ]] \n",
      "\n",
      "delta \n",
      " [[0.7        1.         1.        ]\n",
      " [0.         0.225      0.77307692]\n",
      " [0.         0.         0.        ]] \n",
      "\n",
      "beta \n",
      " [[-54.89112571 -93.11887396 -93.11887396]\n",
      " [  0.         -14.1148609  -63.04637867]\n",
      " [  0.           0.           0.        ]] \n",
      "\n"
     ]
    }
   ],
   "source": [
    "def main_3():\n",
    "    S = 100\n",
    "    X = 95\n",
    "    r = 0.08\n",
    "    T = 0.5\n",
    "    v = 0.00\n",
    "    u = 1.3\n",
    "    d = 0.8\n",
    "    n = 2\n",
    "    \n",
    "    trees3 = buildTrees(S,X,r,T,v,u,d,n,opt_type = 'call') \n",
    "    for key, value in trees3.items():\n",
    "        print(key,'\\n',value,'\\n')\n",
    "main_3()    "
   ]
  },
  {
   "cell_type": "markdown",
   "metadata": {},
   "source": [
    "## 4)"
   ]
  },
  {
   "cell_type": "code",
   "execution_count": 13,
   "metadata": {},
   "outputs": [
    {
     "name": "stdout",
     "output_type": "stream",
     "text": [
      "Delta Trees for Spot price of $80\n",
      "[[0.225      0.77307692 1.        ]\n",
      " [0.         0.         0.31634615]\n",
      " [0.         0.         0.        ]] \n",
      "\n",
      "Delta Trees for Spot price of $90\n",
      "[[0.48888889 0.97606838 1.        ]\n",
      " [0.         0.         0.57008547]\n",
      " [0.         0.         0.        ]] \n",
      "\n",
      "Delta Trees for Spot price of $110\n",
      "[[0.87272727 1.         1.        ]\n",
      " [0.         0.44090909 0.93916084]\n",
      " [0.         0.         0.        ]] \n",
      "\n",
      "Delta Trees for Spot price of $120\n",
      "[[1.         1.         1.        ]\n",
      " [0.         0.62083333 1.        ]\n",
      " [0.         0.         0.12604167]] \n",
      "\n",
      "Delta Trees for Spot price of $130\n",
      "[[1.         1.         1.        ]\n",
      " [0.         0.77307692 1.        ]\n",
      " [0.         0.         0.31634615]] \n",
      "\n"
     ]
    }
   ],
   "source": [
    "def main_4():\n",
    "    S = [80, 90, 110, 120, 130]\n",
    "    X = 95\n",
    "    r = 0.08\n",
    "    T = 0.5\n",
    "    v = 0.00\n",
    "    u = 1.3\n",
    "    d = 0.8\n",
    "    n = 2\n",
    "    \n",
    "    for i in S:\n",
    "        print('Delta Trees for Spot price of ${0:.0f}'.format(i))\n",
    "        trees4 = buildTrees(i,X,r,T,v,u,d,n,opt_type = 'call')\n",
    "        print(trees4['delta'],'\\n')\n",
    "main_4()    "
   ]
  },
  {
   "cell_type": "markdown",
   "metadata": {},
   "source": [
    "## 5a)"
   ]
  },
  {
   "cell_type": "code",
   "execution_count": 52,
   "metadata": {},
   "outputs": [
    {
     "name": "stdout",
     "output_type": "stream",
     "text": [
      "[87.1417861 33.8147424  0.         0.       ]\n",
      "[56.64406241 33.8147424   0.          0.        ]\n",
      "[56.64406241 15.04032855  0.          0.        ]\n",
      "[56.64406241 15.04032855  0.          0.        ]\n",
      "[33.14931753 15.04032855  0.          0.        ]\n",
      "[33.14931753  6.6897296   0.          0.        ]\n",
      "[18.28255221  6.6897296   0.          0.        ]\n",
      "The American Call Premium:  18.283\n"
     ]
    }
   ],
   "source": [
    "S = 100\n",
    "X = 95.0\n",
    "r = 0.08\n",
    "v = 0.30\n",
    "q = 0.0\n",
    "T = 1.0\n",
    "n = 3\n",
    "\n",
    "callPrc = americanBinomPricerRecursive(S, X, r, v, q, T, n, callPayoff, verbose = True)\n",
    "print(f\"The American Call Premium: {callPrc : 0.3f}\")"
   ]
  },
  {
   "cell_type": "markdown",
   "metadata": {},
   "source": [
    "## 5b)"
   ]
  },
  {
   "cell_type": "code",
   "execution_count": 88,
   "metadata": {},
   "outputs": [
    {
     "name": "stdout",
     "output_type": "stream",
     "text": [
      "The European Call Price is = nan\n"
     ]
    },
    {
     "name": "stderr",
     "output_type": "stream",
     "text": [
      "C:\\Users\\neske\\Anaconda3\\lib\\site-packages\\ipykernel_launcher.py:105: RuntimeWarning: divide by zero encountered in double_scalars\n"
     ]
    }
   ],
   "source": [
    "def main():\n",
    "    S = 100\n",
    "    X = 95\n",
    "    r = 0.08\n",
    "    T = 1\n",
    "    n = 3\n",
    "    v = 0.3\n",
    "    q = 0\n",
    "    h = T / n\n",
    "    u = np.exp((r - v) * h + q * np.sqrt(h))\n",
    "    d = np.exp((r - v) * h - q * np.sqrt(h))\n",
    "    \n",
    "    callPrice = EuropeanBinomial(S, X, r, u, d, T, n)\n",
    "    print(\"The European Call Price is = {0:.4f}\".format(callPrice))\n",
    "                                                \n",
    "main()"
   ]
  },
  {
   "cell_type": "markdown",
   "metadata": {},
   "source": [
    "## 5c)"
   ]
  },
  {
   "cell_type": "code",
   "execution_count": 90,
   "metadata": {},
   "outputs": [
    {
     "name": "stdout",
     "output_type": "stream",
     "text": [
      "[ 0.          0.          3.89933488 30.57157332]\n",
      "[ 0.          0.          3.89933488 30.57157332]\n",
      "[ 0.          2.06235672  3.89933488 30.57157332]\n",
      "[ 0.          2.06235672 17.90366345 30.57157332]\n",
      "[ 1.09077967  2.06235672 17.90366345 30.57157332]\n",
      "[ 1.09077967 10.38654838 17.90366345 30.57157332]\n",
      "[ 5.97860511 10.38654838 17.90366345 30.57157332]\n",
      "The European Put Premium:  5.979\n"
     ]
    }
   ],
   "source": [
    "S = 100\n",
    "X = 95.0\n",
    "r = 0.08\n",
    "v = 0.30\n",
    "q = 0.0\n",
    "T = 1.0\n",
    "n = 3\n",
    "\n",
    "putPrc = americanBinomPricerRecursive(S, X, r, v, q, T, n, putPayoff, verbose = True)\n",
    "print(f\"The European Put Premium: {putPrc : 0.3f}\")"
   ]
  },
  {
   "cell_type": "markdown",
   "metadata": {},
   "source": [
    "## 5d)"
   ]
  },
  {
   "cell_type": "code",
   "execution_count": 51,
   "metadata": {},
   "outputs": [
    {
     "name": "stdout",
     "output_type": "stream",
     "text": [
      "[ 0.          0.          3.89933488 30.57157332]\n",
      "[ 0.          0.          3.89933488 30.57157332]\n",
      "[ 0.          2.06235672  3.89933488 30.57157332]\n",
      "[ 0.          2.06235672 17.90366345 30.57157332]\n",
      "[ 1.09077967  2.06235672 17.90366345 30.57157332]\n",
      "[ 1.09077967 10.38654838 17.90366345 30.57157332]\n",
      "[ 5.97860511 10.38654838 17.90366345 30.57157332]\n",
      "The American Put Premium:  5.979\n"
     ]
    }
   ],
   "source": [
    "S = 100\n",
    "X = 95.0\n",
    "r = 0.08\n",
    "v = 0.30\n",
    "q = 0.0\n",
    "T = 1.0\n",
    "n = 3\n",
    "\n",
    "putPrc = americanBinomPricerRecursive(S, X, r, v, q, T, n, putPayoff, verbose = True)\n",
    "print(f\"The American Put Premium: {putPrc : 0.3f}\")"
   ]
  },
  {
   "cell_type": "markdown",
   "metadata": {},
   "source": [
    "## 6a)"
   ]
  },
  {
   "cell_type": "code",
   "execution_count": 28,
   "metadata": {},
   "outputs": [
    {
     "name": "stdout",
     "output_type": "stream",
     "text": [
      "u = 1.1455\n",
      "d = 0.8966\n"
     ]
    }
   ],
   "source": [
    "def q_6():\n",
    "    S = 40\n",
    "    X = 40\n",
    "    r = 0.08\n",
    "    T = 0.5\n",
    "    v = 0.00\n",
    "    q = 0.30\n",
    "    n = 3\n",
    "    h = T / n\n",
    "    u = np.exp((r - v) * h + q * np.sqrt(h))\n",
    "    d = np.exp((r - v) * h - q * np.sqrt(h))\n",
    "    \n",
    "    print(\"u = {0:.4f}\".format(u))\n",
    "    print(\"d = {0:.4f}\".format(d))\n",
    "    \n",
    "q_6()"
   ]
  },
  {
   "cell_type": "markdown",
   "metadata": {},
   "source": [
    "## 6b)"
   ]
  },
  {
   "cell_type": "code",
   "execution_count": null,
   "metadata": {},
   "outputs": [],
   "source": []
  }
 ],
 "metadata": {
  "kernelspec": {
   "display_name": "Python 3",
   "language": "python",
   "name": "python3"
  },
  "language_info": {
   "codemirror_mode": {
    "name": "ipython",
    "version": 3
   },
   "file_extension": ".py",
   "mimetype": "text/x-python",
   "name": "python",
   "nbconvert_exporter": "python",
   "pygments_lexer": "ipython3",
   "version": "3.6.5"
  }
 },
 "nbformat": 4,
 "nbformat_minor": 2
}
